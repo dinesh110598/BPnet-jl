{
 "metadata": {
  "language_info": {
   "file_extension": ".jl",
   "name": "julia",
   "mimetype": "application/julia",
   "version": "1.6.2"
  },
  "orig_nbformat": 4,
  "kernelspec": {
   "name": "julia-1.6",
   "display_name": "Julia 1.6.2",
   "language": "julia"
  }
 },
 "nbformat": 4,
 "nbformat_minor": 2,
 "cells": [
  {
   "cell_type": "markdown",
   "source": [
    "# Training BPnet\n",
    "We'll use the trainer module in train.jl to train a BPnet model in this notebook. We'll consider the Ising model on a square lattice and use inverse temperature $\\beta=0.45$ which is very close to its critical temperature. We'll use a light model"
   ],
   "metadata": {}
  },
  {
   "cell_type": "code",
   "execution_count": 1,
   "source": [
    "include(\"train.jl\")\n",
    "using .BPnetModel\n",
    "using .Trainer: hyperparams, train_loop"
   ],
   "outputs": [],
   "metadata": {}
  },
  {
   "cell_type": "code",
   "execution_count": 2,
   "source": [
    "model = BPnet(9, 16, 2)#values of kernel_size, net_width\n",
    "#and net_depth\n",
    "par = hyperparams(L=32, batch_size=100)"
   ],
   "outputs": [
    {
     "output_type": "execute_result",
     "data": {
      "text/plain": [
       "params(0.9, 32, 100)"
      ]
     },
     "metadata": {},
     "execution_count": 2
    }
   ],
   "metadata": {}
  },
  {
   "cell_type": "code",
   "execution_count": 3,
   "source": [
    "train_loop(model, 10, 0.45, par)"
   ],
   "outputs": [
    {
     "output_type": "error",
     "ename": "LoadError",
     "evalue": "MethodError: no method matching train_loop(::BPnet, ::Int64, ::Float64, ::params)\n\u001b[0mClosest candidates are:\n\u001b[0m  train_loop(\u001b[91m::Main.Trainer.BPnetModel.BPnet\u001b[39m, ::Integer, ::Real, ::params; anneal) at /home/dinesh/Documents/Repos/BPnet-jl/train.jl:49",
     "traceback": [
      "MethodError: no method matching train_loop(::BPnet, ::Int64, ::Float64, ::params)\n\u001b[0mClosest candidates are:\n\u001b[0m  train_loop(\u001b[91m::Main.Trainer.BPnetModel.BPnet\u001b[39m, ::Integer, ::Real, ::params; anneal) at /home/dinesh/Documents/Repos/BPnet-jl/train.jl:49",
      "",
      "Stacktrace:",
      " [1] top-level scope",
      "   @ In[3]:1",
      " [2] eval",
      "   @ ./boot.jl:360 [inlined]",
      " [3] include_string(mapexpr::typeof(REPL.softscope), mod::Module, code::String, filename::String)",
      "   @ Base ./loading.jl:1116"
     ]
    }
   ],
   "metadata": {}
  },
  {
   "cell_type": "code",
   "execution_count": null,
   "source": [],
   "outputs": [],
   "metadata": {}
  }
 ]
}